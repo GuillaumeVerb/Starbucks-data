{
 "cells": [
  {
   "cell_type": "markdown",
   "metadata": {},
   "source": [
    "## Portfolio Exercise: Starbucks\n",
    "<br>\n",
    "\n",
    "<img src=\"https://opj.ca/wp-content/uploads/2018/02/New-Starbucks-Logo-1200x969.jpg\" width=\"200\" height=\"200\">\n",
    "<br>\n",
    "<br>\n",
    " \n",
    "#### Background Information\n",
    "\n",
    "The dataset you will be provided in this portfolio exercise was originally used as a take-home assignment provided by Starbucks for their job candidates. The data for this exercise consists of about 120,000 data points split in a 2:1 ratio among training and test files. In the experiment simulated by the data, an advertising promotion was tested to see if it would bring more customers to purchase a specific product priced at $10. Since it costs the company 0.15 to send out each promotion, it would be best to limit that promotion only to those that are most receptive to the promotion. Each data point includes one column indicating whether or not an individual was sent a promotion for the product, and one column indicating whether or not that individual eventually purchased that product. Each individual also has seven additional features associated with them, which are provided abstractly as V1-V7.\n",
    "\n",
    "#### Optimization Strategy\n",
    "\n",
    "Your task is to use the training data to understand what patterns in V1-V7 to indicate that a promotion should be provided to a user. Specifically, your goal is to maximize the following metrics:\n",
    "\n",
    "* **Incremental Response Rate (IRR)** \n",
    "\n",
    "IRR depicts how many more customers purchased the product with the promotion, as compared to if they didn't receive the promotion. Mathematically, it's the ratio of the number of purchasers in the promotion group to the total number of customers in the purchasers group (_treatment_) minus the ratio of the number of purchasers in the non-promotional group to the total number of customers in the non-promotional group (_control_).\n",
    "\n",
    "$$ IRR = \\frac{purch_{treat}}{cust_{treat}} - \\frac{purch_{ctrl}}{cust_{ctrl}} $$\n",
    "\n",
    "\n",
    "* **Net Incremental Revenue (NIR)**\n",
    "\n",
    "NIR depicts how much is made (or lost) by sending out the promotion. Mathematically, this is 10 times the total number of purchasers that received the promotion minus 0.15 times the number of promotions sent out, minus 10 times the number of purchasers who were not given the promotion.\n",
    "\n",
    "$$ NIR = (10\\cdot purch_{treat} - 0.15 \\cdot cust_{treat}) - 10 \\cdot purch_{ctrl}$$\n",
    "\n",
    "For a full description of what Starbucks provides to candidates see the [instructions available here](https://drive.google.com/open?id=18klca9Sef1Rs6q8DW4l7o349r8B70qXM).\n",
    "\n",
    "Below you can find the training data provided.  Explore the data and different optimization strategies.\n",
    "\n",
    "#### How To Test Your Strategy?\n",
    "\n",
    "When you feel like you have an optimization strategy, complete the `promotion_strategy` function to pass to the `test_results` function.  \n",
    "From past data, we know there are four possible outomes:\n",
    "\n",
    "Table of actual promotion vs. predicted promotion customers:  \n",
    "\n",
    "<table>\n",
    "<tr><th></th><th colspan = '2'>Actual</th></tr>\n",
    "<tr><th>Predicted</th><th>Yes</th><th>No</th></tr>\n",
    "<tr><th>Yes</th><td>I</td><td>II</td></tr>\n",
    "<tr><th>No</th><td>III</td><td>IV</td></tr>\n",
    "</table>\n",
    "\n",
    "The metrics are only being compared for the individuals we predict should obtain the promotion – that is, quadrants I and II.  Since the first set of individuals that receive the promotion (in the training set) receive it randomly, we can expect that quadrants I and II will have approximately equivalent participants.  \n",
    "\n",
    "Comparing quadrant I to II then gives an idea of how well your promotion strategy will work in the future. \n",
    "\n",
    "Get started by reading in the data below.  See how each variable or combination of variables along with a promotion influences the chance of purchasing.  When you feel like you have a strategy for who should receive a promotion, test your strategy against the test dataset used in the final `test_results` function."
   ]
  },
  {
   "cell_type": "code",
   "execution_count": 1,
   "metadata": {},
   "outputs": [
    {
     "data": {
      "text/html": [
       "<div>\n",
       "<style scoped>\n",
       "    .dataframe tbody tr th:only-of-type {\n",
       "        vertical-align: middle;\n",
       "    }\n",
       "\n",
       "    .dataframe tbody tr th {\n",
       "        vertical-align: top;\n",
       "    }\n",
       "\n",
       "    .dataframe thead th {\n",
       "        text-align: right;\n",
       "    }\n",
       "</style>\n",
       "<table border=\"1\" class=\"dataframe\">\n",
       "  <thead>\n",
       "    <tr style=\"text-align: right;\">\n",
       "      <th></th>\n",
       "      <th>ID</th>\n",
       "      <th>Promotion</th>\n",
       "      <th>purchase</th>\n",
       "      <th>V1</th>\n",
       "      <th>V2</th>\n",
       "      <th>V3</th>\n",
       "      <th>V4</th>\n",
       "      <th>V5</th>\n",
       "      <th>V6</th>\n",
       "      <th>V7</th>\n",
       "    </tr>\n",
       "  </thead>\n",
       "  <tbody>\n",
       "    <tr>\n",
       "      <td>0</td>\n",
       "      <td>1</td>\n",
       "      <td>No</td>\n",
       "      <td>0</td>\n",
       "      <td>2</td>\n",
       "      <td>30.443518</td>\n",
       "      <td>-1.165083</td>\n",
       "      <td>1</td>\n",
       "      <td>1</td>\n",
       "      <td>3</td>\n",
       "      <td>2</td>\n",
       "    </tr>\n",
       "    <tr>\n",
       "      <td>1</td>\n",
       "      <td>3</td>\n",
       "      <td>No</td>\n",
       "      <td>0</td>\n",
       "      <td>3</td>\n",
       "      <td>32.159350</td>\n",
       "      <td>-0.645617</td>\n",
       "      <td>2</td>\n",
       "      <td>3</td>\n",
       "      <td>2</td>\n",
       "      <td>2</td>\n",
       "    </tr>\n",
       "    <tr>\n",
       "      <td>2</td>\n",
       "      <td>4</td>\n",
       "      <td>No</td>\n",
       "      <td>0</td>\n",
       "      <td>2</td>\n",
       "      <td>30.431659</td>\n",
       "      <td>0.133583</td>\n",
       "      <td>1</td>\n",
       "      <td>1</td>\n",
       "      <td>4</td>\n",
       "      <td>2</td>\n",
       "    </tr>\n",
       "    <tr>\n",
       "      <td>3</td>\n",
       "      <td>5</td>\n",
       "      <td>No</td>\n",
       "      <td>0</td>\n",
       "      <td>0</td>\n",
       "      <td>26.588914</td>\n",
       "      <td>-0.212728</td>\n",
       "      <td>2</td>\n",
       "      <td>1</td>\n",
       "      <td>4</td>\n",
       "      <td>2</td>\n",
       "    </tr>\n",
       "    <tr>\n",
       "      <td>4</td>\n",
       "      <td>8</td>\n",
       "      <td>Yes</td>\n",
       "      <td>0</td>\n",
       "      <td>3</td>\n",
       "      <td>28.044332</td>\n",
       "      <td>-0.385883</td>\n",
       "      <td>1</td>\n",
       "      <td>1</td>\n",
       "      <td>2</td>\n",
       "      <td>2</td>\n",
       "    </tr>\n",
       "  </tbody>\n",
       "</table>\n",
       "</div>"
      ],
      "text/plain": [
       "   ID Promotion  purchase  V1         V2        V3  V4  V5  V6  V7\n",
       "0   1        No         0   2  30.443518 -1.165083   1   1   3   2\n",
       "1   3        No         0   3  32.159350 -0.645617   2   3   2   2\n",
       "2   4        No         0   2  30.431659  0.133583   1   1   4   2\n",
       "3   5        No         0   0  26.588914 -0.212728   2   1   4   2\n",
       "4   8       Yes         0   3  28.044332 -0.385883   1   1   2   2"
      ]
     },
     "execution_count": 1,
     "metadata": {},
     "output_type": "execute_result"
    }
   ],
   "source": [
    "# load in packages\n",
    "from itertools import combinations\n",
    "\n",
    "from test_results import test_results, score\n",
    "import numpy as np\n",
    "import pandas as pd\n",
    "import scipy as sp\n",
    "import sklearn as sk\n",
    "#import xgboost as xgb\n",
    "#from imblearn.over_sampling import SMOTE\n",
    "from statsmodels.stats.power import NormalIndPower\n",
    "from statsmodels.stats.proportion import proportion_effectsize\n",
    "\n",
    "import matplotlib.pyplot as plt\n",
    "import seaborn as sb\n",
    "%matplotlib inline\n",
    "\n",
    "# load in the data\n",
    "train_data = pd.read_csv('./training.csv')\n",
    "train_data.head()"
   ]
  },
  {
   "cell_type": "code",
   "execution_count": 2,
   "metadata": {},
   "outputs": [
    {
     "data": {
      "text/plain": [
       "ID           0.0\n",
       "Promotion    0.0\n",
       "purchase     0.0\n",
       "V1           0.0\n",
       "V2           0.0\n",
       "V3           0.0\n",
       "V4           0.0\n",
       "V5           0.0\n",
       "V6           0.0\n",
       "V7           0.0\n",
       "dtype: float64"
      ]
     },
     "execution_count": 2,
     "metadata": {},
     "output_type": "execute_result"
    }
   ],
   "source": [
    "# check number of missing values per column\n",
    "train_data.isnull().mean()"
   ]
  },
  {
   "cell_type": "code",
   "execution_count": 3,
   "metadata": {},
   "outputs": [
    {
     "data": {
      "text/html": [
       "<div>\n",
       "<style scoped>\n",
       "    .dataframe tbody tr th:only-of-type {\n",
       "        vertical-align: middle;\n",
       "    }\n",
       "\n",
       "    .dataframe tbody tr th {\n",
       "        vertical-align: top;\n",
       "    }\n",
       "\n",
       "    .dataframe thead th {\n",
       "        text-align: right;\n",
       "    }\n",
       "</style>\n",
       "<table border=\"1\" class=\"dataframe\">\n",
       "  <thead>\n",
       "    <tr style=\"text-align: right;\">\n",
       "      <th></th>\n",
       "      <th>ID</th>\n",
       "      <th>Promotion</th>\n",
       "      <th>purchase</th>\n",
       "      <th>V1</th>\n",
       "      <th>V2</th>\n",
       "      <th>V3</th>\n",
       "      <th>V4</th>\n",
       "      <th>V5</th>\n",
       "      <th>V6</th>\n",
       "      <th>V7</th>\n",
       "    </tr>\n",
       "  </thead>\n",
       "  <tbody>\n",
       "    <tr>\n",
       "      <td>0</td>\n",
       "      <td>2</td>\n",
       "      <td>No</td>\n",
       "      <td>0</td>\n",
       "      <td>1</td>\n",
       "      <td>41.376390</td>\n",
       "      <td>1.172517</td>\n",
       "      <td>1</td>\n",
       "      <td>1</td>\n",
       "      <td>2</td>\n",
       "      <td>2</td>\n",
       "    </tr>\n",
       "    <tr>\n",
       "      <td>1</td>\n",
       "      <td>6</td>\n",
       "      <td>Yes</td>\n",
       "      <td>0</td>\n",
       "      <td>1</td>\n",
       "      <td>25.163598</td>\n",
       "      <td>0.653050</td>\n",
       "      <td>2</td>\n",
       "      <td>2</td>\n",
       "      <td>2</td>\n",
       "      <td>2</td>\n",
       "    </tr>\n",
       "    <tr>\n",
       "      <td>2</td>\n",
       "      <td>7</td>\n",
       "      <td>Yes</td>\n",
       "      <td>0</td>\n",
       "      <td>1</td>\n",
       "      <td>26.553778</td>\n",
       "      <td>-1.597972</td>\n",
       "      <td>2</td>\n",
       "      <td>3</td>\n",
       "      <td>4</td>\n",
       "      <td>2</td>\n",
       "    </tr>\n",
       "    <tr>\n",
       "      <td>3</td>\n",
       "      <td>10</td>\n",
       "      <td>No</td>\n",
       "      <td>0</td>\n",
       "      <td>2</td>\n",
       "      <td>28.529691</td>\n",
       "      <td>-1.078506</td>\n",
       "      <td>2</td>\n",
       "      <td>3</td>\n",
       "      <td>2</td>\n",
       "      <td>2</td>\n",
       "    </tr>\n",
       "    <tr>\n",
       "      <td>4</td>\n",
       "      <td>12</td>\n",
       "      <td>No</td>\n",
       "      <td>0</td>\n",
       "      <td>2</td>\n",
       "      <td>32.378538</td>\n",
       "      <td>0.479895</td>\n",
       "      <td>2</td>\n",
       "      <td>2</td>\n",
       "      <td>1</td>\n",
       "      <td>2</td>\n",
       "    </tr>\n",
       "  </tbody>\n",
       "</table>\n",
       "</div>"
      ],
      "text/plain": [
       "   ID Promotion  purchase  V1         V2        V3  V4  V5  V6  V7\n",
       "0   2        No         0   1  41.376390  1.172517   1   1   2   2\n",
       "1   6       Yes         0   1  25.163598  0.653050   2   2   2   2\n",
       "2   7       Yes         0   1  26.553778 -1.597972   2   3   4   2\n",
       "3  10        No         0   2  28.529691 -1.078506   2   3   2   2\n",
       "4  12        No         0   2  32.378538  0.479895   2   2   1   2"
      ]
     },
     "execution_count": 3,
     "metadata": {},
     "output_type": "execute_result"
    }
   ],
   "source": [
    "test_data = pd.read_csv('./Test.csv')\n",
    "test_data.head()"
   ]
  },
  {
   "cell_type": "code",
   "execution_count": 4,
   "metadata": {},
   "outputs": [],
   "source": [
    "features = ['V1', 'V2', 'V3', 'V4', 'V5', 'V6', 'V7']"
   ]
  },
  {
   "cell_type": "code",
   "execution_count": 5,
   "metadata": {},
   "outputs": [
    {
     "data": {
      "text/plain": [
       "Yes    42364\n",
       "No     42170\n",
       "Name: Promotion, dtype: int64"
      ]
     },
     "execution_count": 5,
     "metadata": {},
     "output_type": "execute_result"
    }
   ],
   "source": [
    "train_data['Promotion'].value_counts()"
   ]
  },
  {
   "cell_type": "code",
   "execution_count": 6,
   "metadata": {},
   "outputs": [
    {
     "data": {
      "text/plain": [
       "No     20902\n",
       "Yes    20748\n",
       "Name: Promotion, dtype: int64"
      ]
     },
     "execution_count": 6,
     "metadata": {},
     "output_type": "execute_result"
    }
   ],
   "source": [
    "test_data['Promotion'].value_counts()"
   ]
  },
  {
   "cell_type": "code",
   "execution_count": 7,
   "metadata": {},
   "outputs": [
    {
     "data": {
      "image/png": "[encoded data removed]",
      "text/plain": [
       "<Figure size 720x720 with 9 Axes>"
      ]
     },
     "metadata": {
      "needs_background": "light"
     },
     "output_type": "display_data"
    }
   ],
   "source": [
    "train_data[(train_data['Promotion']=='Yes') & (train_data['purchase']==1)][features].hist(figsize=(10,10));"
   ]
  },
  {
   "cell_type": "code",
   "execution_count": 8,
   "metadata": {
    "scrolled": false
   },
   "outputs": [
    {
     "data": {
      "image/png": "[encoded data removed]",
      "text/plain": [
       "<Figure size 720x720 with 9 Axes>"
      ]
     },
     "metadata": {
      "needs_background": "light"
     },
     "output_type": "display_data"
    }
   ],
   "source": [
    "train_data[(train_data['Promotion']=='Yes') & (train_data['purchase']==0)][features].hist(figsize=(10,10));"
   ]
  },
  {
   "cell_type": "code",
   "execution_count": 9,
   "metadata": {
    "scrolled": false
   },
   "outputs": [
    {
     "data": {
      "image/png": "[encoded data removed]",
      "text/plain": [
       "<Figure size 720x720 with 9 Axes>"
      ]
     },
     "metadata": {
      "needs_background": "light"
     },
     "output_type": "display_data"
    }
   ],
   "source": [
    "train_data[(train_data['Promotion']=='No') & (train_data['purchase']==1)][features].hist(figsize=(10,10));"
   ]
  },
  {
   "cell_type": "code",
   "execution_count": 10,
   "metadata": {},
   "outputs": [
    {
     "data": {
      "image/png": "[encoded data removed]",
      "text/plain": [
       "<Figure size 720x720 with 9 Axes>"
      ]
     },
     "metadata": {
      "needs_background": "light"
     },
     "output_type": "display_data"
    }
   ],
   "source": [
    "train_data[(train_data['Promotion']=='No') & (train_data['purchase']==0)][features].hist(figsize=(10,10));"
   ]
  },
  {
   "cell_type": "code",
   "execution_count": 11,
   "metadata": {},
   "outputs": [],
   "source": [
    "def promotion_strategy(df):\n",
    "    '''\n",
    "    INPUT \n",
    "    df - a dataframe with *only* the columns V1 - V7 (same as train_data)\n",
    "\n",
    "    OUTPUT\n",
    "    promotion_df - np.array with the values\n",
    "                   'Yes' or 'No' related to whether or not an \n",
    "                   individual should recieve a promotion \n",
    "                   should be the length of df.shape[0]\n",
    "                \n",
    "    Ex:\n",
    "    INPUT: df\n",
    "    \n",
    "    V1\tV2\t  V3\tV4\tV5\tV6\tV7\n",
    "    2\t30\t-1.1\t1\t1\t3\t2\n",
    "    3\t32\t-0.6\t2\t3\t2\t2\n",
    "    2\t30\t0.13\t1\t1\t4\t2\n",
    "    \n",
    "    OUTPUT: promotion\n",
    "    \n",
    "    array(['Yes', 'Yes', 'No'])\n",
    "    indicating the first two users would recieve the promotion and \n",
    "    the last should not.\n",
    "    '''\n",
    "    \n",
    "    test = df\n",
    "    \n",
    "    promotion = []\n",
    "    \n",
    "    num_test_points = test.shape[0]\n",
    "    \n",
    "    for i in range(num_test_points):\n",
    "        promotion.append('Yes')\n",
    "        \n",
    "    promotion = np.array(promotion)\n",
    "    \n",
    "    \n",
    "    \n",
    "    return promotion"
   ]
  },
  {
   "cell_type": "code",
   "execution_count": 12,
   "metadata": {},
   "outputs": [
    {
     "name": "stdout",
     "output_type": "stream",
     "text": [
      "Nice job!  See how well your strategy worked on our test data below!\n",
      "\n",
      "Your irr with this strategy is 0.0096.\n",
      "\n",
      "Your nir with this strategy is -1132.20.\n",
      "We came up with a model with an irr of 0.0188 and an nir of 189.45 on the test set.\n",
      "\n",
      " How did you do?\n"
     ]
    },
    {
     "data": {
      "text/plain": [
       "(0.009593158278250108, -1132.1999999999998)"
      ]
     },
     "execution_count": 12,
     "metadata": {},
     "output_type": "execute_result"
    }
   ],
   "source": [
    "# This will test your results, and provide you back some information \n",
    "# on how well your promotion_strategy will work in practice\n",
    "\n",
    "test_results(promotion_strategy)"
   ]
  },
  {
   "cell_type": "code",
   "execution_count": 13,
   "metadata": {},
   "outputs": [
    {
     "data": {
      "text/plain": [
       "5089.265513625437"
      ]
     },
     "execution_count": 13,
     "metadata": {},
     "output_type": "execute_result"
    }
   ],
   "source": [
    "# Check sample size needed for control and treatment groups\n",
    "NormalIndPower().solve_power(effect_size = proportion_effectsize(.0096, .015), alpha = .05, power = 0.8,\n",
    "                             alternative = 'smaller')"
   ]
  },
  {
   "cell_type": "markdown",
   "metadata": {},
   "source": [
    "If we were to send everyone a promotion, our IRR is 0.96\\% and NIR is -\\$1,132.20. This will be the baseline model. Hence, blindly sending everyone a promotion is going to lose the company a lot of money.\n",
    "\n",
    "Our baseline IRR is 0.096\\%. If our desired minimum IRR is 1.5\\% (an 0.081\\% absolute increase in IRR), and we want to detect this change with a type 1 error rate of 0.05 and a power of 0.80, we will need a sample size of approximately 5,090 in each group (both control and treatment). Since, we have more than 40,000 data points in each group, we have sufficient data"
   ]
  },
  {
   "cell_type": "markdown",
   "metadata": {},
   "source": [
    "### Model : Predict only for indivduals who received promotions and purchased"
   ]
  },
  {
   "cell_type": "markdown",
   "metadata": {},
   "source": [
    "In this approach, we will assign labels of 1 to those who received the promotions and made purchases, and labels of 0 to everyone else. In other words, we want the model to find the individuals who are likely to purchase only after they received a promotion. This is a simple model that surprisingly performed relatively well for this dataset, generating an incremental response rate (irr) of 2.19\\% and a net incrmental revenue (nlr) of 332.70dollars. \n",
    "This actually outperformed the Starbuck's model for this dataset, which was an irr of 1.88\\% and an nlr of $189.45. \n",
    "\n",
    "However, since the irr and nlr on the validation set is lower at 1.93% and 94.70$,the model's relatively good performance on the test set may be due to random chance. Overall, it still performed superbly for such a simple model."
   ]
  },
  {
   "cell_type": "code",
   "execution_count": 14,
   "metadata": {},
   "outputs": [],
   "source": [
    "# read data\n",
    "train_data = pd.read_csv('./training.csv')\n",
    "test_data = pd.read_csv('./Test.csv')"
   ]
  },
  {
   "cell_type": "code",
   "execution_count": 15,
   "metadata": {},
   "outputs": [
    {
     "data": {
      "text/plain": [
       "<bound method DataFrame.iterrows of            ID Promotion  purchase  V1         V2        V3  V4  V5  V6  V7\n",
       "0           1        No         0   2  30.443518 -1.165083   1   1   3   2\n",
       "1           3        No         0   3  32.159350 -0.645617   2   3   2   2\n",
       "2           4        No         0   2  30.431659  0.133583   1   1   4   2\n",
       "3           5        No         0   0  26.588914 -0.212728   2   1   4   2\n",
       "4           8       Yes         0   3  28.044332 -0.385883   1   1   2   2\n",
       "...       ...       ...       ...  ..        ...       ...  ..  ..  ..  ..\n",
       "84529  126180        No         0   1  30.084876  1.345672   1   1   3   1\n",
       "84530  126181       Yes         0   3  33.501485 -0.299306   1   1   4   1\n",
       "84531  126182        No         0   1  31.492019  1.085939   2   3   2   2\n",
       "84532  126183        No         0   1  37.766106  0.999361   2   2   1   2\n",
       "84533  126184        No         0   1  21.720835  1.085939   2   2   1   2\n",
       "\n",
       "[84534 rows x 10 columns]>"
      ]
     },
     "execution_count": 15,
     "metadata": {},
     "output_type": "execute_result"
    }
   ],
   "source": [
    "train_data.iterrows"
   ]
  },
  {
   "cell_type": "code",
   "execution_count": 16,
   "metadata": {},
   "outputs": [],
   "source": [
    "\n",
    "# generate labels\n",
    "# only those who made a purchase after receiving a promotion will be assigned a label of 1, \n",
    "# while the other individuals will be given a label of 0\n",
    "\n",
    "response = []\n",
    "\n",
    "for index, row in train_data.iterrows():\n",
    "    if (row['purchase'] == 1) and (row['Promotion']=='Yes'):\n",
    "        response.append(1.0)\n",
    "    else:\n",
    "        response.append(0.0)\n",
    "        \n",
    "train_data['response'] = response"
   ]
  },
  {
   "cell_type": "code",
   "execution_count": 17,
   "metadata": {},
   "outputs": [
    {
     "data": {
      "text/html": [
       "<div>\n",
       "<style scoped>\n",
       "    .dataframe tbody tr th:only-of-type {\n",
       "        vertical-align: middle;\n",
       "    }\n",
       "\n",
       "    .dataframe tbody tr th {\n",
       "        vertical-align: top;\n",
       "    }\n",
       "\n",
       "    .dataframe thead th {\n",
       "        text-align: right;\n",
       "    }\n",
       "</style>\n",
       "<table border=\"1\" class=\"dataframe\">\n",
       "  <thead>\n",
       "    <tr style=\"text-align: right;\">\n",
       "      <th></th>\n",
       "      <th>ID</th>\n",
       "      <th>Promotion</th>\n",
       "      <th>purchase</th>\n",
       "      <th>V1</th>\n",
       "      <th>V2</th>\n",
       "      <th>V3</th>\n",
       "      <th>V4</th>\n",
       "      <th>V5</th>\n",
       "      <th>V6</th>\n",
       "      <th>V7</th>\n",
       "      <th>response</th>\n",
       "    </tr>\n",
       "  </thead>\n",
       "  <tbody>\n",
       "    <tr>\n",
       "      <td>0</td>\n",
       "      <td>1</td>\n",
       "      <td>No</td>\n",
       "      <td>0</td>\n",
       "      <td>2</td>\n",
       "      <td>30.443518</td>\n",
       "      <td>-1.165083</td>\n",
       "      <td>1</td>\n",
       "      <td>1</td>\n",
       "      <td>3</td>\n",
       "      <td>2</td>\n",
       "      <td>0.0</td>\n",
       "    </tr>\n",
       "    <tr>\n",
       "      <td>1</td>\n",
       "      <td>3</td>\n",
       "      <td>No</td>\n",
       "      <td>0</td>\n",
       "      <td>3</td>\n",
       "      <td>32.159350</td>\n",
       "      <td>-0.645617</td>\n",
       "      <td>2</td>\n",
       "      <td>3</td>\n",
       "      <td>2</td>\n",
       "      <td>2</td>\n",
       "      <td>0.0</td>\n",
       "    </tr>\n",
       "    <tr>\n",
       "      <td>2</td>\n",
       "      <td>4</td>\n",
       "      <td>No</td>\n",
       "      <td>0</td>\n",
       "      <td>2</td>\n",
       "      <td>30.431659</td>\n",
       "      <td>0.133583</td>\n",
       "      <td>1</td>\n",
       "      <td>1</td>\n",
       "      <td>4</td>\n",
       "      <td>2</td>\n",
       "      <td>0.0</td>\n",
       "    </tr>\n",
       "    <tr>\n",
       "      <td>3</td>\n",
       "      <td>5</td>\n",
       "      <td>No</td>\n",
       "      <td>0</td>\n",
       "      <td>0</td>\n",
       "      <td>26.588914</td>\n",
       "      <td>-0.212728</td>\n",
       "      <td>2</td>\n",
       "      <td>1</td>\n",
       "      <td>4</td>\n",
       "      <td>2</td>\n",
       "      <td>0.0</td>\n",
       "    </tr>\n",
       "    <tr>\n",
       "      <td>4</td>\n",
       "      <td>8</td>\n",
       "      <td>Yes</td>\n",
       "      <td>0</td>\n",
       "      <td>3</td>\n",
       "      <td>28.044332</td>\n",
       "      <td>-0.385883</td>\n",
       "      <td>1</td>\n",
       "      <td>1</td>\n",
       "      <td>2</td>\n",
       "      <td>2</td>\n",
       "      <td>0.0</td>\n",
       "    </tr>\n",
       "  </tbody>\n",
       "</table>\n",
       "</div>"
      ],
      "text/plain": [
       "   ID Promotion  purchase  V1         V2        V3  V4  V5  V6  V7  response\n",
       "0   1        No         0   2  30.443518 -1.165083   1   1   3   2       0.0\n",
       "1   3        No         0   3  32.159350 -0.645617   2   3   2   2       0.0\n",
       "2   4        No         0   2  30.431659  0.133583   1   1   4   2       0.0\n",
       "3   5        No         0   0  26.588914 -0.212728   2   1   4   2       0.0\n",
       "4   8       Yes         0   3  28.044332 -0.385883   1   1   2   2       0.0"
      ]
     },
     "execution_count": 17,
     "metadata": {},
     "output_type": "execute_result"
    }
   ],
   "source": [
    "train_data.head()"
   ]
  },
  {
   "cell_type": "code",
   "execution_count": 18,
   "metadata": {},
   "outputs": [],
   "source": [
    "# split data into train and valid\n",
    "from sklearn import model_selection\n",
    "\n",
    "train, valid = sk.model_selection.train_test_split(train_data, test_size=0.2,random_state=42)"
   ]
  },
  {
   "cell_type": "code",
   "execution_count": 34,
   "metadata": {},
   "outputs": [
    {
     "data": {
      "text/html": [
       "<div>\n",
       "<style scoped>\n",
       "    .dataframe tbody tr th:only-of-type {\n",
       "        vertical-align: middle;\n",
       "    }\n",
       "\n",
       "    .dataframe tbody tr th {\n",
       "        vertical-align: top;\n",
       "    }\n",
       "\n",
       "    .dataframe thead th {\n",
       "        text-align: right;\n",
       "    }\n",
       "</style>\n",
       "<table border=\"1\" class=\"dataframe\">\n",
       "  <thead>\n",
       "    <tr style=\"text-align: right;\">\n",
       "      <th></th>\n",
       "      <th>ID</th>\n",
       "      <th>Promotion</th>\n",
       "      <th>purchase</th>\n",
       "      <th>V1</th>\n",
       "      <th>V2</th>\n",
       "      <th>V3</th>\n",
       "      <th>V4</th>\n",
       "      <th>V5</th>\n",
       "      <th>V6</th>\n",
       "      <th>V7</th>\n",
       "      <th>response</th>\n",
       "    </tr>\n",
       "  </thead>\n",
       "  <tbody>\n",
       "    <tr>\n",
       "      <td>66588</td>\n",
       "      <td>99250</td>\n",
       "      <td>Yes</td>\n",
       "      <td>0</td>\n",
       "      <td>3</td>\n",
       "      <td>34.470493</td>\n",
       "      <td>-1.078506</td>\n",
       "      <td>1</td>\n",
       "      <td>1</td>\n",
       "      <td>1</td>\n",
       "      <td>2</td>\n",
       "      <td>0.0</td>\n",
       "    </tr>\n",
       "    <tr>\n",
       "      <td>62125</td>\n",
       "      <td>92564</td>\n",
       "      <td>No</td>\n",
       "      <td>0</td>\n",
       "      <td>1</td>\n",
       "      <td>28.065819</td>\n",
       "      <td>-1.165083</td>\n",
       "      <td>1</td>\n",
       "      <td>1</td>\n",
       "      <td>3</td>\n",
       "      <td>1</td>\n",
       "      <td>0.0</td>\n",
       "    </tr>\n",
       "    <tr>\n",
       "      <td>27827</td>\n",
       "      <td>41307</td>\n",
       "      <td>Yes</td>\n",
       "      <td>0</td>\n",
       "      <td>1</td>\n",
       "      <td>27.142590</td>\n",
       "      <td>-1.511395</td>\n",
       "      <td>1</td>\n",
       "      <td>3</td>\n",
       "      <td>3</td>\n",
       "      <td>2</td>\n",
       "      <td>0.0</td>\n",
       "    </tr>\n",
       "    <tr>\n",
       "      <td>66648</td>\n",
       "      <td>99341</td>\n",
       "      <td>Yes</td>\n",
       "      <td>0</td>\n",
       "      <td>3</td>\n",
       "      <td>28.782344</td>\n",
       "      <td>-1.078506</td>\n",
       "      <td>1</td>\n",
       "      <td>1</td>\n",
       "      <td>1</td>\n",
       "      <td>2</td>\n",
       "      <td>0.0</td>\n",
       "    </tr>\n",
       "    <tr>\n",
       "      <td>47392</td>\n",
       "      <td>70517</td>\n",
       "      <td>No</td>\n",
       "      <td>0</td>\n",
       "      <td>2</td>\n",
       "      <td>39.605508</td>\n",
       "      <td>-0.645617</td>\n",
       "      <td>2</td>\n",
       "      <td>3</td>\n",
       "      <td>1</td>\n",
       "      <td>2</td>\n",
       "      <td>0.0</td>\n",
       "    </tr>\n",
       "    <tr>\n",
       "      <td>...</td>\n",
       "      <td>...</td>\n",
       "      <td>...</td>\n",
       "      <td>...</td>\n",
       "      <td>...</td>\n",
       "      <td>...</td>\n",
       "      <td>...</td>\n",
       "      <td>...</td>\n",
       "      <td>...</td>\n",
       "      <td>...</td>\n",
       "      <td>...</td>\n",
       "      <td>...</td>\n",
       "    </tr>\n",
       "    <tr>\n",
       "      <td>6265</td>\n",
       "      <td>9347</td>\n",
       "      <td>No</td>\n",
       "      <td>0</td>\n",
       "      <td>1</td>\n",
       "      <td>25.513060</td>\n",
       "      <td>-0.126150</td>\n",
       "      <td>1</td>\n",
       "      <td>2</td>\n",
       "      <td>3</td>\n",
       "      <td>2</td>\n",
       "      <td>0.0</td>\n",
       "    </tr>\n",
       "    <tr>\n",
       "      <td>54886</td>\n",
       "      <td>81802</td>\n",
       "      <td>No</td>\n",
       "      <td>0</td>\n",
       "      <td>3</td>\n",
       "      <td>31.485170</td>\n",
       "      <td>0.047006</td>\n",
       "      <td>1</td>\n",
       "      <td>2</td>\n",
       "      <td>2</td>\n",
       "      <td>2</td>\n",
       "      <td>0.0</td>\n",
       "    </tr>\n",
       "    <tr>\n",
       "      <td>76820</td>\n",
       "      <td>114665</td>\n",
       "      <td>No</td>\n",
       "      <td>0</td>\n",
       "      <td>1</td>\n",
       "      <td>28.643406</td>\n",
       "      <td>0.653050</td>\n",
       "      <td>2</td>\n",
       "      <td>1</td>\n",
       "      <td>1</td>\n",
       "      <td>2</td>\n",
       "      <td>0.0</td>\n",
       "    </tr>\n",
       "    <tr>\n",
       "      <td>860</td>\n",
       "      <td>1277</td>\n",
       "      <td>No</td>\n",
       "      <td>0</td>\n",
       "      <td>2</td>\n",
       "      <td>21.724511</td>\n",
       "      <td>1.085939</td>\n",
       "      <td>1</td>\n",
       "      <td>3</td>\n",
       "      <td>3</td>\n",
       "      <td>2</td>\n",
       "      <td>0.0</td>\n",
       "    </tr>\n",
       "    <tr>\n",
       "      <td>15795</td>\n",
       "      <td>23539</td>\n",
       "      <td>No</td>\n",
       "      <td>0</td>\n",
       "      <td>3</td>\n",
       "      <td>25.638208</td>\n",
       "      <td>-1.424817</td>\n",
       "      <td>2</td>\n",
       "      <td>1</td>\n",
       "      <td>2</td>\n",
       "      <td>1</td>\n",
       "      <td>0.0</td>\n",
       "    </tr>\n",
       "  </tbody>\n",
       "</table>\n",
       "<p>67627 rows × 11 columns</p>\n",
       "</div>"
      ],
      "text/plain": [
       "           ID Promotion  purchase  V1         V2        V3  V4  V5  V6  V7  \\\n",
       "66588   99250       Yes         0   3  34.470493 -1.078506   1   1   1   2   \n",
       "62125   92564        No         0   1  28.065819 -1.165083   1   1   3   1   \n",
       "27827   41307       Yes         0   1  27.142590 -1.511395   1   3   3   2   \n",
       "66648   99341       Yes         0   3  28.782344 -1.078506   1   1   1   2   \n",
       "47392   70517        No         0   2  39.605508 -0.645617   2   3   1   2   \n",
       "...       ...       ...       ...  ..        ...       ...  ..  ..  ..  ..   \n",
       "6265     9347        No         0   1  25.513060 -0.126150   1   2   3   2   \n",
       "54886   81802        No         0   3  31.485170  0.047006   1   2   2   2   \n",
       "76820  114665        No         0   1  28.643406  0.653050   2   1   1   2   \n",
       "860      1277        No         0   2  21.724511  1.085939   1   3   3   2   \n",
       "15795   23539        No         0   3  25.638208 -1.424817   2   1   2   1   \n",
       "\n",
       "       response  \n",
       "66588       0.0  \n",
       "62125       0.0  \n",
       "27827       0.0  \n",
       "66648       0.0  \n",
       "47392       0.0  \n",
       "...         ...  \n",
       "6265        0.0  \n",
       "54886       0.0  \n",
       "76820       0.0  \n",
       "860         0.0  \n",
       "15795       0.0  \n",
       "\n",
       "[67627 rows x 11 columns]"
      ]
     },
     "execution_count": 34,
     "metadata": {},
     "output_type": "execute_result"
    }
   ],
   "source": [
    "train"
   ]
  },
  {
   "cell_type": "code",
   "execution_count": 33,
   "metadata": {},
   "outputs": [
    {
     "data": {
      "text/html": [
       "<div>\n",
       "<style scoped>\n",
       "    .dataframe tbody tr th:only-of-type {\n",
       "        vertical-align: middle;\n",
       "    }\n",
       "\n",
       "    .dataframe tbody tr th {\n",
       "        vertical-align: top;\n",
       "    }\n",
       "\n",
       "    .dataframe thead th {\n",
       "        text-align: right;\n",
       "    }\n",
       "</style>\n",
       "<table border=\"1\" class=\"dataframe\">\n",
       "  <thead>\n",
       "    <tr style=\"text-align: right;\">\n",
       "      <th></th>\n",
       "      <th>ID</th>\n",
       "      <th>Promotion</th>\n",
       "      <th>purchase</th>\n",
       "      <th>V1</th>\n",
       "      <th>V2</th>\n",
       "      <th>V3</th>\n",
       "      <th>V4</th>\n",
       "      <th>V5</th>\n",
       "      <th>V6</th>\n",
       "      <th>V7</th>\n",
       "      <th>response</th>\n",
       "    </tr>\n",
       "  </thead>\n",
       "  <tbody>\n",
       "    <tr>\n",
       "      <td>6264</td>\n",
       "      <td>9346</td>\n",
       "      <td>Yes</td>\n",
       "      <td>0</td>\n",
       "      <td>3</td>\n",
       "      <td>18.012754</td>\n",
       "      <td>-1.511395</td>\n",
       "      <td>2</td>\n",
       "      <td>2</td>\n",
       "      <td>4</td>\n",
       "      <td>1</td>\n",
       "      <td>0.0</td>\n",
       "    </tr>\n",
       "    <tr>\n",
       "      <td>41822</td>\n",
       "      <td>62172</td>\n",
       "      <td>No</td>\n",
       "      <td>0</td>\n",
       "      <td>2</td>\n",
       "      <td>28.676557</td>\n",
       "      <td>-0.126150</td>\n",
       "      <td>2</td>\n",
       "      <td>3</td>\n",
       "      <td>3</td>\n",
       "      <td>2</td>\n",
       "      <td>0.0</td>\n",
       "    </tr>\n",
       "    <tr>\n",
       "      <td>8569</td>\n",
       "      <td>12768</td>\n",
       "      <td>No</td>\n",
       "      <td>0</td>\n",
       "      <td>0</td>\n",
       "      <td>28.817748</td>\n",
       "      <td>-1.511395</td>\n",
       "      <td>2</td>\n",
       "      <td>4</td>\n",
       "      <td>3</td>\n",
       "      <td>2</td>\n",
       "      <td>0.0</td>\n",
       "    </tr>\n",
       "    <tr>\n",
       "      <td>41228</td>\n",
       "      <td>61264</td>\n",
       "      <td>No</td>\n",
       "      <td>0</td>\n",
       "      <td>1</td>\n",
       "      <td>26.140783</td>\n",
       "      <td>-0.905350</td>\n",
       "      <td>2</td>\n",
       "      <td>1</td>\n",
       "      <td>4</td>\n",
       "      <td>2</td>\n",
       "      <td>0.0</td>\n",
       "    </tr>\n",
       "    <tr>\n",
       "      <td>24896</td>\n",
       "      <td>37024</td>\n",
       "      <td>Yes</td>\n",
       "      <td>0</td>\n",
       "      <td>1</td>\n",
       "      <td>32.346423</td>\n",
       "      <td>0.566472</td>\n",
       "      <td>1</td>\n",
       "      <td>2</td>\n",
       "      <td>3</td>\n",
       "      <td>1</td>\n",
       "      <td>0.0</td>\n",
       "    </tr>\n",
       "    <tr>\n",
       "      <td>...</td>\n",
       "      <td>...</td>\n",
       "      <td>...</td>\n",
       "      <td>...</td>\n",
       "      <td>...</td>\n",
       "      <td>...</td>\n",
       "      <td>...</td>\n",
       "      <td>...</td>\n",
       "      <td>...</td>\n",
       "      <td>...</td>\n",
       "      <td>...</td>\n",
       "      <td>...</td>\n",
       "    </tr>\n",
       "    <tr>\n",
       "      <td>31179</td>\n",
       "      <td>46300</td>\n",
       "      <td>Yes</td>\n",
       "      <td>0</td>\n",
       "      <td>3</td>\n",
       "      <td>26.310883</td>\n",
       "      <td>-0.299306</td>\n",
       "      <td>1</td>\n",
       "      <td>3</td>\n",
       "      <td>1</td>\n",
       "      <td>1</td>\n",
       "      <td>0.0</td>\n",
       "    </tr>\n",
       "    <tr>\n",
       "      <td>17641</td>\n",
       "      <td>26264</td>\n",
       "      <td>Yes</td>\n",
       "      <td>0</td>\n",
       "      <td>2</td>\n",
       "      <td>24.402187</td>\n",
       "      <td>-1.078506</td>\n",
       "      <td>2</td>\n",
       "      <td>2</td>\n",
       "      <td>4</td>\n",
       "      <td>2</td>\n",
       "      <td>0.0</td>\n",
       "    </tr>\n",
       "    <tr>\n",
       "      <td>73097</td>\n",
       "      <td>109020</td>\n",
       "      <td>Yes</td>\n",
       "      <td>0</td>\n",
       "      <td>1</td>\n",
       "      <td>29.043276</td>\n",
       "      <td>1.518828</td>\n",
       "      <td>2</td>\n",
       "      <td>3</td>\n",
       "      <td>1</td>\n",
       "      <td>2</td>\n",
       "      <td>0.0</td>\n",
       "    </tr>\n",
       "    <tr>\n",
       "      <td>71261</td>\n",
       "      <td>106302</td>\n",
       "      <td>Yes</td>\n",
       "      <td>0</td>\n",
       "      <td>1</td>\n",
       "      <td>27.070219</td>\n",
       "      <td>-1.597972</td>\n",
       "      <td>2</td>\n",
       "      <td>3</td>\n",
       "      <td>3</td>\n",
       "      <td>2</td>\n",
       "      <td>0.0</td>\n",
       "    </tr>\n",
       "    <tr>\n",
       "      <td>27715</td>\n",
       "      <td>41148</td>\n",
       "      <td>No</td>\n",
       "      <td>0</td>\n",
       "      <td>0</td>\n",
       "      <td>27.853224</td>\n",
       "      <td>-1.338239</td>\n",
       "      <td>2</td>\n",
       "      <td>1</td>\n",
       "      <td>2</td>\n",
       "      <td>2</td>\n",
       "      <td>0.0</td>\n",
       "    </tr>\n",
       "  </tbody>\n",
       "</table>\n",
       "<p>16907 rows × 11 columns</p>\n",
       "</div>"
      ],
      "text/plain": [
       "           ID Promotion  purchase  V1         V2        V3  V4  V5  V6  V7  \\\n",
       "6264     9346       Yes         0   3  18.012754 -1.511395   2   2   4   1   \n",
       "41822   62172        No         0   2  28.676557 -0.126150   2   3   3   2   \n",
       "8569    12768        No         0   0  28.817748 -1.511395   2   4   3   2   \n",
       "41228   61264        No         0   1  26.140783 -0.905350   2   1   4   2   \n",
       "24896   37024       Yes         0   1  32.346423  0.566472   1   2   3   1   \n",
       "...       ...       ...       ...  ..        ...       ...  ..  ..  ..  ..   \n",
       "31179   46300       Yes         0   3  26.310883 -0.299306   1   3   1   1   \n",
       "17641   26264       Yes         0   2  24.402187 -1.078506   2   2   4   2   \n",
       "73097  109020       Yes         0   1  29.043276  1.518828   2   3   1   2   \n",
       "71261  106302       Yes         0   1  27.070219 -1.597972   2   3   3   2   \n",
       "27715   41148        No         0   0  27.853224 -1.338239   2   1   2   2   \n",
       "\n",
       "       response  \n",
       "6264        0.0  \n",
       "41822       0.0  \n",
       "8569        0.0  \n",
       "41228       0.0  \n",
       "24896       0.0  \n",
       "...         ...  \n",
       "31179       0.0  \n",
       "17641       0.0  \n",
       "73097       0.0  \n",
       "71261       0.0  \n",
       "27715       0.0  \n",
       "\n",
       "[16907 rows x 11 columns]"
      ]
     },
     "execution_count": 33,
     "metadata": {},
     "output_type": "execute_result"
    }
   ],
   "source": [
    "valid"
   ]
  },
  {
   "cell_type": "code",
   "execution_count": 19,
   "metadata": {},
   "outputs": [],
   "source": [
    "# generate features and labels\n",
    "Y_train = train['response']\n",
    "X_train = train[features]\n",
    "\n",
    "Y_valid = valid['response']\n",
    "X_valid = valid[features]"
   ]
  },
  {
   "cell_type": "code",
   "execution_count": 35,
   "metadata": {},
   "outputs": [],
   "source": [
    "from imblearn.over_sampling import SMOTE"
   ]
  },
  {
   "cell_type": "code",
   "execution_count": 36,
   "metadata": {},
   "outputs": [],
   "source": [
    "# up sample only the train dataset with SMOTE\n",
    "sm = SMOTE(random_state=42, ratio = 1.0)\n",
    "X_train_upsamp, Y_train_upsamp = sm.fit_sample(X_train, Y_train)\n",
    "    \n",
    "X_train_upsamp = pd.DataFrame(X_train_upsamp, columns=features)\n",
    "\n",
    "Y_train_upsamp = pd.Series(Y_train_upsamp)"
   ]
  },
  {
   "cell_type": "code",
   "execution_count": 23,
   "metadata": {},
   "outputs": [],
   "source": [
    "import xgboost as xgb"
   ]
  },
  {
   "cell_type": "code",
   "execution_count": 37,
   "metadata": {},
   "outputs": [
    {
     "name": "stdout",
     "output_type": "stream",
     "text": [
      "[0]\tvalidation_0-auc:0.891992\tvalidation_1-auc:0.645481\n",
      "Multiple eval metrics have been passed: 'validation_1-auc' will be used for early stopping.\n",
      "\n",
      "Will train until validation_1-auc hasn't improved in 100 rounds.\n",
      "[1]\tvalidation_0-auc:0.898054\tvalidation_1-auc:0.653202\n",
      "[2]\tvalidation_0-auc:0.906917\tvalidation_1-auc:0.65697\n",
      "[3]\tvalidation_0-auc:0.915775\tvalidation_1-auc:0.658408\n",
      "[4]\tvalidation_0-auc:0.934996\tvalidation_1-auc:0.655914\n",
      "[5]\tvalidation_0-auc:0.935649\tvalidation_1-auc:0.651876\n",
      "[6]\tvalidation_0-auc:0.935016\tvalidation_1-auc:0.654039\n",
      "[7]\tvalidation_0-auc:0.943776\tvalidation_1-auc:0.655699\n",
      "[8]\tvalidation_0-auc:0.944752\tvalidation_1-auc:0.650929\n",
      "[9]\tvalidation_0-auc:0.950239\tvalidation_1-auc:0.648446\n",
      "[10]\tvalidation_0-auc:0.950787\tvalidation_1-auc:0.648789\n",
      "[11]\tvalidation_0-auc:0.957777\tvalidation_1-auc:0.648527\n",
      "[12]\tvalidation_0-auc:0.959635\tvalidation_1-auc:0.645952\n",
      "[13]\tvalidation_0-auc:0.961191\tvalidation_1-auc:0.644991\n",
      "[14]\tvalidation_0-auc:0.963264\tvalidation_1-auc:0.644359\n",
      "[15]\tvalidation_0-auc:0.964559\tvalidation_1-auc:0.643373\n",
      "[16]\tvalidation_0-auc:0.96789\tvalidation_1-auc:0.642907\n",
      "[17]\tvalidation_0-auc:0.971348\tvalidation_1-auc:0.643167\n",
      "[18]\tvalidation_0-auc:0.971811\tvalidation_1-auc:0.642867\n",
      "[19]\tvalidation_0-auc:0.972129\tvalidation_1-auc:0.640521\n",
      "[20]\tvalidation_0-auc:0.972874\tvalidation_1-auc:0.641371\n",
      "[21]\tvalidation_0-auc:0.974931\tvalidation_1-auc:0.641463\n",
      "[22]\tvalidation_0-auc:0.975742\tvalidation_1-auc:0.641142\n",
      "[23]\tvalidation_0-auc:0.975969\tvalidation_1-auc:0.641459\n",
      "[24]\tvalidation_0-auc:0.976825\tvalidation_1-auc:0.641571\n",
      "[25]\tvalidation_0-auc:0.978049\tvalidation_1-auc:0.639893\n",
      "[26]\tvalidation_0-auc:0.978595\tvalidation_1-auc:0.640487\n",
      "[27]\tvalidation_0-auc:0.979204\tvalidation_1-auc:0.640151\n",
      "[28]\tvalidation_0-auc:0.980176\tvalidation_1-auc:0.641093\n",
      "[29]\tvalidation_0-auc:0.98085\tvalidation_1-auc:0.638883\n",
      "[30]\tvalidation_0-auc:0.981953\tvalidation_1-auc:0.639622\n",
      "[31]\tvalidation_0-auc:0.982504\tvalidation_1-auc:0.639453\n",
      "[32]\tvalidation_0-auc:0.983063\tvalidation_1-auc:0.639492\n",
      "[33]\tvalidation_0-auc:0.98367\tvalidation_1-auc:0.640488\n",
      "[34]\tvalidation_0-auc:0.984246\tvalidation_1-auc:0.639037\n",
      "[35]\tvalidation_0-auc:0.984718\tvalidation_1-auc:0.639567\n",
      "[36]\tvalidation_0-auc:0.985076\tvalidation_1-auc:0.6396\n",
      "[37]\tvalidation_0-auc:0.985431\tvalidation_1-auc:0.639764\n",
      "[38]\tvalidation_0-auc:0.98573\tvalidation_1-auc:0.6402\n",
      "[39]\tvalidation_0-auc:0.98633\tvalidation_1-auc:0.639224\n",
      "[40]\tvalidation_0-auc:0.987223\tvalidation_1-auc:0.639973\n",
      "[41]\tvalidation_0-auc:0.98746\tvalidation_1-auc:0.639702\n",
      "[42]\tvalidation_0-auc:0.987797\tvalidation_1-auc:0.64034\n",
      "[43]\tvalidation_0-auc:0.98796\tvalidation_1-auc:0.640749\n",
      "[44]\tvalidation_0-auc:0.988833\tvalidation_1-auc:0.641342\n",
      "[45]\tvalidation_0-auc:0.988935\tvalidation_1-auc:0.640628\n",
      "[46]\tvalidation_0-auc:0.989142\tvalidation_1-auc:0.64054\n",
      "[47]\tvalidation_0-auc:0.989589\tvalidation_1-auc:0.641135\n",
      "[48]\tvalidation_0-auc:0.990107\tvalidation_1-auc:0.641434\n",
      "[49]\tvalidation_0-auc:0.990194\tvalidation_1-auc:0.641016\n",
      "[50]\tvalidation_0-auc:0.990531\tvalidation_1-auc:0.640117\n",
      "[51]\tvalidation_0-auc:0.990881\tvalidation_1-auc:0.640232\n",
      "[52]\tvalidation_0-auc:0.991518\tvalidation_1-auc:0.641315\n",
      "[53]\tvalidation_0-auc:0.991563\tvalidation_1-auc:0.641088\n",
      "[54]\tvalidation_0-auc:0.991833\tvalidation_1-auc:0.640687\n",
      "[55]\tvalidation_0-auc:0.992215\tvalidation_1-auc:0.640318\n",
      "[56]\tvalidation_0-auc:0.992428\tvalidation_1-auc:0.640456\n",
      "[57]\tvalidation_0-auc:0.992698\tvalidation_1-auc:0.639793\n",
      "[58]\tvalidation_0-auc:0.993104\tvalidation_1-auc:0.639649\n",
      "[59]\tvalidation_0-auc:0.993124\tvalidation_1-auc:0.639509\n",
      "[60]\tvalidation_0-auc:0.993174\tvalidation_1-auc:0.639349\n",
      "[61]\tvalidation_0-auc:0.993378\tvalidation_1-auc:0.639713\n",
      "[62]\tvalidation_0-auc:0.993484\tvalidation_1-auc:0.639128\n",
      "[63]\tvalidation_0-auc:0.993494\tvalidation_1-auc:0.639075\n",
      "[64]\tvalidation_0-auc:0.993517\tvalidation_1-auc:0.638892\n",
      "[65]\tvalidation_0-auc:0.993738\tvalidation_1-auc:0.638574\n",
      "[66]\tvalidation_0-auc:0.99387\tvalidation_1-auc:0.638665\n",
      "[67]\tvalidation_0-auc:0.994178\tvalidation_1-auc:0.637675\n",
      "[68]\tvalidation_0-auc:0.994431\tvalidation_1-auc:0.639032\n",
      "[69]\tvalidation_0-auc:0.994574\tvalidation_1-auc:0.638164\n",
      "[70]\tvalidation_0-auc:0.994683\tvalidation_1-auc:0.638113\n",
      "[71]\tvalidation_0-auc:0.994767\tvalidation_1-auc:0.638378\n",
      "[72]\tvalidation_0-auc:0.995052\tvalidation_1-auc:0.637998\n",
      "[73]\tvalidation_0-auc:0.995053\tvalidation_1-auc:0.637765\n",
      "[74]\tvalidation_0-auc:0.995165\tvalidation_1-auc:0.638295\n",
      "[75]\tvalidation_0-auc:0.995275\tvalidation_1-auc:0.637694\n",
      "[76]\tvalidation_0-auc:0.99534\tvalidation_1-auc:0.636123\n",
      "[77]\tvalidation_0-auc:0.995343\tvalidation_1-auc:0.635817\n",
      "[78]\tvalidation_0-auc:0.995344\tvalidation_1-auc:0.635482\n",
      "[79]\tvalidation_0-auc:0.995465\tvalidation_1-auc:0.635\n",
      "[80]\tvalidation_0-auc:0.995517\tvalidation_1-auc:0.634885\n",
      "[81]\tvalidation_0-auc:0.995569\tvalidation_1-auc:0.633843\n",
      "[82]\tvalidation_0-auc:0.995676\tvalidation_1-auc:0.633371\n",
      "[83]\tvalidation_0-auc:0.995678\tvalidation_1-auc:0.633212\n",
      "[84]\tvalidation_0-auc:0.995762\tvalidation_1-auc:0.632442\n",
      "[85]\tvalidation_0-auc:0.995805\tvalidation_1-auc:0.631885\n",
      "[86]\tvalidation_0-auc:0.995997\tvalidation_1-auc:0.631953\n",
      "[87]\tvalidation_0-auc:0.995995\tvalidation_1-auc:0.631794\n",
      "[88]\tvalidation_0-auc:0.996013\tvalidation_1-auc:0.631532\n",
      "[89]\tvalidation_0-auc:0.99607\tvalidation_1-auc:0.630329\n",
      "[90]\tvalidation_0-auc:0.996201\tvalidation_1-auc:0.630382\n",
      "[91]\tvalidation_0-auc:0.996293\tvalidation_1-auc:0.631591\n",
      "[92]\tvalidation_0-auc:0.996293\tvalidation_1-auc:0.63135\n",
      "[93]\tvalidation_0-auc:0.99629\tvalidation_1-auc:0.631122\n",
      "[94]\tvalidation_0-auc:0.996363\tvalidation_1-auc:0.630809\n",
      "[95]\tvalidation_0-auc:0.996489\tvalidation_1-auc:0.630511\n",
      "[96]\tvalidation_0-auc:0.996546\tvalidation_1-auc:0.630368\n",
      "[97]\tvalidation_0-auc:0.996598\tvalidation_1-auc:0.629549\n",
      "[98]\tvalidation_0-auc:0.996624\tvalidation_1-auc:0.629647\n",
      "[99]\tvalidation_0-auc:0.996683\tvalidation_1-auc:0.630115\n"
     ]
    },
    {
     "data": {
      "text/plain": [
       "XGBClassifier(base_score=0.5, booster='gbtree', colsample_bylevel=1,\n",
       "              colsample_bynode=1, colsample_bytree=1, gamma=0.1,\n",
       "              learning_rate=0.1, max_delta_step=0, max_depth=7,\n",
       "              min_child_weight=5, missing=None, n_estimators=100, n_jobs=1,\n",
       "              nthread=None, objective='binary:logistic', random_state=0,\n",
       "              reg_alpha=0, reg_lambda=1, scale_pos_weight=1, seed=42,\n",
       "              silent=True, subsample=1, verbosity=1)"
      ]
     },
     "execution_count": 37,
     "metadata": {},
     "output_type": "execute_result"
    }
   ],
   "source": [
    "# Train an xgboost model\n",
    "eval_set = [(X_train_upsamp, Y_train_upsamp), (X_valid, Y_valid)]\n",
    "model = xgb.XGBClassifier(learning_rate = 0.1,\\\n",
    "                          max_depth = 7,\\\n",
    "                          min_child_weight = 5,\\\n",
    "                          objective = 'binary:logistic',\\\n",
    "                          seed = 42,\\\n",
    "                          gamma = 0.1,\\\n",
    "                          silent = True)\n",
    "model.fit(X_train_upsamp, Y_train_upsamp, eval_set=eval_set,\\\n",
    "          eval_metric=\"auc\", verbose=True, early_stopping_rounds=100)"
   ]
  },
  {
   "cell_type": "code",
   "execution_count": 39,
   "metadata": {},
   "outputs": [
    {
     "data": {
      "image/png": "[encoded data removed]",
      "text/plain": [
       "<Figure size 720x1296 with 1 Axes>"
      ]
     },
     "metadata": {
      "needs_background": "light"
     },
     "output_type": "display_data"
    }
   ],
   "source": [
    "# check which features are important\n",
    "\n",
    "from xgboost import plot_importance\n",
    "from matplotlib import pyplot\n",
    "\n",
    "fig, ax = pyplot.subplots(figsize=(10, 18));\n",
    "xgb.plot_importance(model, ax=ax);"
   ]
  },
  {
   "cell_type": "code",
   "execution_count": 40,
   "metadata": {},
   "outputs": [
    {
     "data": {
      "text/plain": [
       "array([[12684,  4082],\n",
       "       [   83,    58]], dtype=int64)"
      ]
     },
     "execution_count": 40,
     "metadata": {},
     "output_type": "execute_result"
    }
   ],
   "source": [
    "# confusion matrix\n",
    "valid_pred = model.predict(X_valid, ntree_limit=model.best_ntree_limit)\n",
    "cm = sk.metrics.confusion_matrix\n",
    "cm(Y_valid, valid_pred)"
   ]
  },
  {
   "cell_type": "code",
   "execution_count": 41,
   "metadata": {},
   "outputs": [
    {
     "data": {
      "image/png": "[encoded data removed]",
      "text/plain": [
       "<Figure size 720x720 with 2 Axes>"
      ]
     },
     "metadata": {
      "needs_background": "light"
     },
     "output_type": "display_data"
    }
   ],
   "source": [
    "# confusion marix for thge validation set\n",
    "valid_pred = model.predict(X_valid, ntree_limit=model.best_ntree_limit)\n",
    "cm = sk.metrics.confusion_matrix(Y_valid, valid_pred)\n",
    "\n",
    "fig, ax= plt.subplots(figsize=(10,10))\n",
    "sb.heatmap(cm, annot=True, fmt='g', ax = ax); #annot=True to annotate cells\n",
    "\n",
    "# labels, title and ticks\n",
    "ax.set_xlabel('Predicted labels');\n",
    "ax.set_ylabel('True labels'); \n",
    "ax.set_title('Confusion Matrix'); \n",
    "ax.xaxis.set_ticklabels(['No Purchase', 'Made Purchase']); \n",
    "ax.yaxis.set_ticklabels(['No Purchase', 'Made Purchase']);"
   ]
  },
  {
   "cell_type": "code",
   "execution_count": 42,
   "metadata": {},
   "outputs": [],
   "source": [
    "def promotion_strategy(df):\n",
    "    '''\n",
    "    INPUT \n",
    "    df - a dataframe with *only* the columns V1 - V7 (same as train_data)\n",
    "\n",
    "    OUTPUT\n",
    "    promotion_df - np.array with the values\n",
    "                   'Yes' or 'No' related to whether or not an \n",
    "                   individual should recieve a promotion \n",
    "                   should be the length of df.shape[0]\n",
    "                \n",
    "    Ex:\n",
    "    INPUT: df\n",
    "    \n",
    "    V1\tV2\t  V3\tV4\tV5\tV6\tV7\n",
    "    2\t30\t-1.1\t1\t1\t3\t2\n",
    "    3\t32\t-0.6\t2\t3\t2\t2\n",
    "    2\t30\t0.13\t1\t1\t4\t2\n",
    "    \n",
    "    OUTPUT: promotion\n",
    "    \n",
    "    array(['Yes', 'Yes', 'No'])\n",
    "    indicating the first two users would recieve the promotion and \n",
    "    the last should not.\n",
    "    '''\n",
    "    test = df\n",
    "    \n",
    "    preds = model.predict(test, ntree_limit=model.best_ntree_limit)\n",
    "\n",
    "    promotion = []\n",
    "    for pred in preds:\n",
    "        if pred == 1:\n",
    "            promotion.append('Yes')\n",
    "        else:\n",
    "            promotion.append('No')\n",
    "    promotion = np.array(promotion)\n",
    "    return promotion"
   ]
  },
  {
   "cell_type": "code",
   "execution_count": 44,
   "metadata": {},
   "outputs": [],
   "source": [
    "from test_results import test_results, score"
   ]
  },
  {
   "cell_type": "code",
   "execution_count": 43,
   "metadata": {},
   "outputs": [
    {
     "name": "stdout",
     "output_type": "stream",
     "text": [
      "Nice job!  See how well your strategy worked on our test data below!\n",
      "\n",
      "Your irr with this strategy is 0.0219.\n",
      "\n",
      "Your nir with this strategy is 332.70.\n",
      "We came up with a model with an irr of 0.0188 and an nir of 189.45 on the test set.\n",
      "\n",
      " How did you do?\n"
     ]
    },
    {
     "data": {
      "text/plain": [
       "(0.02185148545762388, 332.70000000000005)"
      ]
     },
     "execution_count": 43,
     "metadata": {},
     "output_type": "execute_result"
    }
   ],
   "source": [
    "# This will test your results, and provide you back some information \n",
    "# on how well your promotion_strategy will work in practice\n",
    "\n",
    "test_results(promotion_strategy)"
   ]
  },
  {
   "cell_type": "code",
   "execution_count": null,
   "metadata": {},
   "outputs": [],
   "source": []
  }
 ],
 "metadata": {
  "kernelspec": {
   "display_name": "Python 3",
   "language": "python",
   "name": "python3"
  },
  "language_info": {
   "codemirror_mode": {
    "name": "ipython",
    "version": 3
   },
   "file_extension": ".py",
   "mimetype": "text/x-python",
   "name": "python",
   "nbconvert_exporter": "python",
   "pygments_lexer": "ipython3",
   "version": "3.7.4"
  }
 },
 "nbformat": 4,
 "nbformat_minor": 2
}
